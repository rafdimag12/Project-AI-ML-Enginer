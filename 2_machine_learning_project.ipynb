{
  "cells": [
    {
      "cell_type": "markdown",
      "metadata": {
        "id": "view-in-github",
        "colab_type": "text"
      },
      "source": [
        "<a href=\"https://colab.research.google.com/github/rafdimag12/Project-AI-ML-Enginer/blob/main/2_machine_learning_project.ipynb\" target=\"_parent\"><img src=\"https://colab.research.google.com/assets/colab-badge.svg\" alt=\"Open In Colab\"/></a>"
      ]
    },
    {
      "cell_type": "markdown",
      "id": "3ccb0b85-67c6-4dfe-a6f9-138bb5e778ab",
      "metadata": {
        "id": "3ccb0b85-67c6-4dfe-a6f9-138bb5e778ab"
      },
      "source": [
        "# Project: Machine Learning"
      ]
    },
    {
      "cell_type": "markdown",
      "id": "911a145c-7d01-4210-9699-0e1fef80ff19",
      "metadata": {
        "id": "911a145c-7d01-4210-9699-0e1fef80ff19"
      },
      "source": [
        "**Instructions for Students:**\n",
        "\n",
        "Please carefully follow these steps to complete and submit your project:\n",
        "\n",
        "1. **Make a copy of the Project**: Please make a copy of this project either to your own Google Drive or download locally. Work on the copy of the project. The master project is **Read-Only**, meaning you can edit, but it will not be saved when you close the master project. To avoid total loss of your work, remember to make a copy.\n",
        "\n",
        "2. **Completing the Project**: You are required to work on and complete all tasks in the provided project. Be disciplined and ensure that you thoroughly engage with each task.\n",
        "   \n",
        "3. **Creating a Google Drive Folder**: Each of you must create a new folder on your Google Drive. This will be the repository for all your completed project files, aiding you in keeping your work organized and accessible.\n",
        "   \n",
        "4. **Uploading Completed Project**: Upon completion of your project, make sure to upload all necessary files, involving codes, reports, and related documents into the created Google Drive folder. Save this link in the 'Student Identity' section and also provide it as the last parameter in the `submit` function that has been provided.\n",
        "   \n",
        "5. **Sharing Folder Link**: You're required to share the link to your project Google Drive folder. This is crucial for the submission and evaluation of your project.\n",
        "   \n",
        "6. **Setting Permission to Public**: Please make sure your Google Drive folder is set to public. This allows your instructor to access your solutions and assess your work correctly.\n",
        "\n",
        "Adhering to these procedures will facilitate a smooth project evaluation process for you and the reviewers."
      ]
    },
    {
      "cell_type": "markdown",
      "id": "d3b9e0f7-75d2-476a-9b29-07c1a3800925",
      "metadata": {
        "id": "d3b9e0f7-75d2-476a-9b29-07c1a3800925"
      },
      "source": [
        "## Project Description\n",
        "\n",
        "In this Machine Learning Project, you will create your own supervised Machine Learning (ML) model. We will use the full FIFA21 Dataset and we will identify players that are above average.\n",
        "\n",
        "We will use the column \"Overall\" with a treshold of 75 to define players that are 'Valuable'. This will become our target output which we need for a supervised ML model. Because we use the \"Overall\" as our target output, you cannot use \"Overall\" in your features, this will be explained further below.\n",
        "\n",
        "This project will provide a comprehensive overview of your abilities in machine learning, from understanding the problem, choosing the right model, training, and optimizing it."
      ]
    },
    {
      "cell_type": "markdown",
      "id": "84fea308-2c09-472c-a5ec-e4ba0900d496",
      "metadata": {
        "id": "84fea308-2c09-472c-a5ec-e4ba0900d496"
      },
      "source": [
        "## Grading Criteria\n",
        "\n",
        "Your score will be awarded based on the following criteria:\n",
        "* 100: The model has an accuracy of more than 90% and an F1 score of more than 80%. This model is excellent and demonstrates a strong understanding of the task.\n",
        "* 90: The model has an accuracy of more than 85% and an F1 score of more than 75%. This model is very good, with some room for improvement.\n",
        "* 80: The model has an accuracy of more than 80% and an F1 score between 70% and 75%. This model is fairly good but needs improvement in balancing precision and recall.\n",
        "* 70: The model has an accuracy of more than 70% and an F1 score between 60% and 70%. This model is below average and needs significant improvement.\n",
        "* 60 or below: The model has an accuracy of less than 70% or an F1 score of less than 60%, or the student did not submit the accuracy and F1 score. This model is poor and needs considerable improvement."
      ]
    },
    {
      "cell_type": "markdown",
      "id": "915df21b-3a7e-444a-999d-c830acdbe7f2",
      "metadata": {
        "id": "915df21b-3a7e-444a-999d-c830acdbe7f2"
      },
      "source": [
        "Rmember to make a copy of this notebook in your Google Drive and work in your own copy.\n",
        "\n",
        "Happy modeling!\n",
        "\n",
        ">Note: If you get the accuracy of 100% and F1 score of 100%, while it may earn you good grades, it's an indication of overfitting."
      ]
    },
    {
      "cell_type": "markdown",
      "id": "8018f21d-d661-4ae4-a50d-9fb66feb291d",
      "metadata": {
        "id": "8018f21d-d661-4ae4-a50d-9fb66feb291d"
      },
      "source": [
        "## Student Identity"
      ]
    },
    {
      "cell_type": "code",
      "execution_count": null,
      "id": "9fc57472-0432-474a-b1f7-c825edfc007a",
      "metadata": {
        "id": "9fc57472-0432-474a-b1f7-c825edfc007a",
        "colab": {
          "base_uri": "https://localhost:8080/"
        },
        "outputId": "d6ab59a3-8dff-4f7b-e3a7-30365451eac7"
      },
      "outputs": [
        {
          "output_type": "stream",
          "name": "stdout",
          "text": [
            "Collecting rggrader\n",
            "  Downloading rggrader-0.1.6-py3-none-any.whl.metadata (485 bytes)\n",
            "Requirement already satisfied: requests in /usr/local/lib/python3.11/dist-packages (from rggrader) (2.32.3)\n",
            "Requirement already satisfied: pandas in /usr/local/lib/python3.11/dist-packages (from rggrader) (2.2.2)\n",
            "Requirement already satisfied: Pillow in /usr/local/lib/python3.11/dist-packages (from rggrader) (11.1.0)\n",
            "Requirement already satisfied: numpy>=1.23.2 in /usr/local/lib/python3.11/dist-packages (from pandas->rggrader) (1.26.4)\n",
            "Requirement already satisfied: python-dateutil>=2.8.2 in /usr/local/lib/python3.11/dist-packages (from pandas->rggrader) (2.8.2)\n",
            "Requirement already satisfied: pytz>=2020.1 in /usr/local/lib/python3.11/dist-packages (from pandas->rggrader) (2024.2)\n",
            "Requirement already satisfied: tzdata>=2022.7 in /usr/local/lib/python3.11/dist-packages (from pandas->rggrader) (2025.1)\n",
            "Requirement already satisfied: charset-normalizer<4,>=2 in /usr/local/lib/python3.11/dist-packages (from requests->rggrader) (3.4.1)\n",
            "Requirement already satisfied: idna<4,>=2.5 in /usr/local/lib/python3.11/dist-packages (from requests->rggrader) (3.10)\n",
            "Requirement already satisfied: urllib3<3,>=1.21.1 in /usr/local/lib/python3.11/dist-packages (from requests->rggrader) (2.3.0)\n",
            "Requirement already satisfied: certifi>=2017.4.17 in /usr/local/lib/python3.11/dist-packages (from requests->rggrader) (2024.12.14)\n",
            "Requirement already satisfied: six>=1.5 in /usr/local/lib/python3.11/dist-packages (from python-dateutil>=2.8.2->pandas->rggrader) (1.17.0)\n",
            "Downloading rggrader-0.1.6-py3-none-any.whl (2.5 kB)\n",
            "Installing collected packages: rggrader\n",
            "Successfully installed rggrader-0.1.6\n"
          ]
        }
      ],
      "source": [
        "# @title #### Student Identity\n",
        "student_id = \"REA6DSAKJ\" # @param {type:\"string\"}\n",
        "name = \"Rafdi Magiana Ibadurrahman\" # @param {type:\"string\"}\n",
        "drive_link = \"https://drive.google.com/drive/folders/1POhujxUAanKeBLB9DnYgg8OQ9Q6GfAJP?usp=sharing\"  # @param {type:\"string\"}\n",
        "\n",
        "assignment_id = \"00_ml_project\"\n",
        "\n",
        "# Import grader package\n",
        "!pip install rggrader\n",
        "from rggrader import submit, submit_image"
      ]
    },
    {
      "cell_type": "code",
      "execution_count": null,
      "id": "62606ca1-5868-4c65-93ef-1d6ee8d8d59a",
      "metadata": {
        "id": "62606ca1-5868-4c65-93ef-1d6ee8d8d59a"
      },
      "outputs": [],
      "source": [
        "# Write any package/module installation that you need\n",
        "import pandas as pd\n",
        "\n",
        "# pip install goes here, this helps declutter your output below\n",
        "\n"
      ]
    },
    {
      "cell_type": "code",
      "source": [
        "from sklearn.model_selection import train_test_split\n",
        "from sklearn.preprocessing import StandardScaler\n",
        "from sklearn.ensemble import RandomForestClassifier\n",
        "from sklearn.metrics import accuracy_score, f1_score"
      ],
      "metadata": {
        "id": "ICWn2F8fc_Tw"
      },
      "id": "ICWn2F8fc_Tw",
      "execution_count": null,
      "outputs": []
    },
    {
      "cell_type": "markdown",
      "id": "b0837717-de95-4193-9898-e2f4cadfcfc6",
      "metadata": {
        "id": "b0837717-de95-4193-9898-e2f4cadfcfc6"
      },
      "source": [
        "## Load the dataset and clean it\n",
        "\n",
        "In this task, you will prepare and load your dataset. You need to download the full FIFA 21 Dataset from the link here: [Kaggle FIFA Player Stats Database](https://www.kaggle.com/datasets/bryanb/fifa-player-stats-database?resource=download&select=FIFA21_official_data.csv).\n",
        "\n",
        ">Note: Make sure you download FIFA 21 dataset.\n",
        ">\n",
        ">![FIFA21 Dataset](https://storage.googleapis.com/rg-ai-bootcamp/projects/fifa21_dataset-min.png)\n",
        "\n",
        "After you download the dataset, you will then import the dataset then you will clean the data. For example there may be some empty cell in the dataset which you need to fill. Maybe there are also data that you need to convert to numeric value for analysis. Identify the data that is incomplete and fix them.\n",
        "\n",
        "In the code block below, you can use the comments to guide you on what to do."
      ]
    },
    {
      "cell_type": "code",
      "execution_count": null,
      "id": "3b0e5e58-277e-41ef-9b1c-951e5d150191",
      "metadata": {
        "id": "3b0e5e58-277e-41ef-9b1c-951e5d150191",
        "colab": {
          "base_uri": "https://localhost:8080/"
        },
        "outputId": "c4b76fed-9e05-4bc5-a181-4acd890d02ce"
      },
      "outputs": [
        {
          "output_type": "stream",
          "name": "stdout",
          "text": [
            "ID                     0\n",
            "Name                   0\n",
            "Age                    0\n",
            "Photo                  0\n",
            "Nationality            0\n",
            "                      ..\n",
            "GKKicking              0\n",
            "GKPositioning          0\n",
            "GKReflexes             0\n",
            "Best Position          0\n",
            "Best Overall Rating    0\n",
            "Length: 63, dtype: int64\n"
          ]
        }
      ],
      "source": [
        "# Write your preprocessing and data cleaning here\n",
        "\n",
        "# Load your data\n",
        "data = pd.read_csv('FIFA17_official_data.csv')\n",
        "\n",
        "# Check your data for empty cell\n",
        "print(data.isnull().sum())\n",
        "\n",
        "# Fill the empty cell with data or drop the column\n",
        "numeric_cols = data.select_dtypes(include=['number']).columns\n",
        "data[numeric_cols] = data[numeric_cols].fillna(data[numeric_cols].mean())\n"
      ]
    },
    {
      "cell_type": "markdown",
      "id": "30ce0c59-0e94-480a-81ae-528e68356a15",
      "metadata": {
        "id": "30ce0c59-0e94-480a-81ae-528e68356a15"
      },
      "source": [
        "## Build and Train your model\n",
        "\n",
        "In this task you will analyze the data and select the features that is best at predicting if the Player is a 'Valuable' player or not.\n",
        "\n",
        "The first step is to **define the target output** that you will use for training. Here's an example of how to create a target output:\n",
        "- `df['OK Player'] = df['Overall'].apply(lambda x: 1 if x >= 50 else 0) #Define the OK Player using treshold of 50.`\n",
        "\n",
        "Next you will **identify the features** that will best predict a 'Valuable' player. You are required to **submit the features you selected** in the Submission section below.\n",
        "\n",
        "> **Because we use the \"Overall\" as our target output, the use of \"Overall\" in your features is not allowed. You will automatically get 0 if you submit \"Overall\" in your features. The use of \"Best Overall Rating\" is also not allowed and will automatically get you a score of 0.**\n",
        "\n",
        "Once you identify the features, you will then **split the data** into Training set and Testing/Validation set.\n",
        "\n",
        "Depending on the features you selected, **you may need to scale the features**.\n",
        "\n",
        "Now you will **train your model, choose the algorithm** you are going to use carefully to make sure it gives the best result.\n",
        "\n",
        "Once you have trained your model, you need to test the model effectiveness. **Make predictions against your Testing/Validation set** and evaluate your model. You are required to **submit the Accuracy Score and F1 score** in the Submission section below.\n",
        "\n",
        "In the code block below, you can use the comments to guide you on what to do.\n",
        "\n",
        "We have also provided 3 variables that you must use in your code, `ml_features`, `ml_accuracy` and `ml_f1_score`. You can move the variables around your code, assign values to them, but you cannot delete them."
      ]
    },
    {
      "cell_type": "code",
      "execution_count": null,
      "id": "1aa3c3f7-c6c5-4419-9b25-e8d7a8ec345a",
      "metadata": {
        "id": "1aa3c3f7-c6c5-4419-9b25-e8d7a8ec345a",
        "colab": {
          "base_uri": "https://localhost:8080/"
        },
        "outputId": "5e2ecfa3-2e4c-4ad7-85f7-9c5e7b07239c"
      },
      "outputs": [
        {
          "output_type": "stream",
          "name": "stdout",
          "text": [
            "Accuracy: 0.9926\n",
            "F1 Score: 0.9668\n"
          ]
        }
      ],
      "source": [
        "# Write your code here\n",
        "\n",
        "# Load your data\n",
        "df = pd.read_csv('FIFA17_official_data.csv')\n",
        "\n",
        "# Define the target output (Valuable Player if Overall >= 75)\n",
        "df['Valuable Player'] = df['Overall'].apply(lambda x: 1 if x >= 75 else 0)\n",
        "\n",
        "# Identify the features to use in the model (excluding 'Overall' and 'Best Overall Rating')\n",
        "ml_features = ['Age', 'Potential', 'Value', 'Wage', 'International Reputation', 'Skill Moves', 'Weak Foot', 'Height', 'Weight', 'Crossing', 'Finishing', 'HeadingAccuracy', 'ShortPassing', 'Dribbling', 'Curve', 'LongPassing', 'BallControl', 'Acceleration', 'SprintSpeed', 'Agility', 'Reactions', 'Balance', 'ShotPower', 'Jumping', 'Stamina', 'Strength', 'LongShots', 'Aggression', 'Interceptions', 'Positioning', 'Vision', 'Penalties', 'Composure', 'Marking', 'StandingTackle', 'SlidingTackle', 'GKDiving', 'GKHandling', 'GKKicking', 'GKPositioning', 'GKReflexes']\n",
        "\n",
        "# Convert 'Value' and 'Wage' columns to numeric\n",
        "def convert_weight(weight):\n",
        "    if isinstance(weight, str):\n",
        "        # Remove 'lbs' from weight and convert to float\n",
        "        return float(weight.replace('lbs', ''))\n",
        "    return weight\n",
        "\n",
        "def convert_height(height):\n",
        "    if isinstance(height, str):\n",
        "        feet, inches = map(int, height.replace('\"', '').split(\"'\"))\n",
        "        return (feet * 12) + inches\n",
        "    return height\n",
        "\n",
        "def convert_currency(value):\n",
        "    if isinstance(value, str):\n",
        "        value = value.replace('€', '')  # Remove currency symbol\n",
        "        if 'K' in value:\n",
        "            value = float(value.replace('K', '')) * 1000  # Convert 'K' to thousands\n",
        "        elif 'M' in value:\n",
        "            value = float(value.replace('M', '')) * 1000000  # Convert 'M' to millions\n",
        "        else:\n",
        "            try:\n",
        "                value = float(value)\n",
        "            except ValueError:\n",
        "                value = 0  # Handle any unexpected formats\n",
        "    return value\n",
        "\n",
        "df['Value'] = df['Value'].apply(convert_currency)\n",
        "df['Wage'] = df['Wage'].apply(convert_currency)\n",
        "df['Height'] = df['Height'].apply(convert_height)\n",
        "df['Weight'] = df['Weight'].apply(convert_weight)\n",
        "# Split data into features and target output\n",
        "X = df[ml_features]\n",
        "y = df['Valuable Player']\n",
        "\n",
        "# Split the data into training set and test set (80% train, 20% test)\n",
        "X_train, X_test, y_train, y_test = train_test_split(X, y, test_size=0.2, random_state=42)\n",
        "\n",
        "# Scale the features (optional but often helpful for machine learning algorithms)\n",
        "scaler = StandardScaler()\n",
        "X_train_scaled = scaler.fit_transform(X_train)\n",
        "X_test_scaled = scaler.transform(X_test)\n",
        "\n",
        "# Train the model (using Random Forest in this case)\n",
        "model = RandomForestClassifier(random_state=42)\n",
        "model.fit(X_train_scaled, y_train)\n",
        "\n",
        "# Make predictions using the test set\n",
        "y_pred = model.predict(X_test_scaled)\n",
        "\n",
        "# Evaluate the model\n",
        "ml_accuracy = accuracy_score(y_test, y_pred)\n",
        "ml_f1_score = f1_score(y_test, y_pred)\n",
        "\n",
        "# Output the accuracy and F1 score\n",
        "print(f'Accuracy: {ml_accuracy:.4f}')\n",
        "print(f'F1 Score: {ml_f1_score:.4f}')\n",
        "\n"
      ]
    },
    {
      "cell_type": "markdown",
      "id": "5d59af48-18c0-4e40-80ff-33a85030b205",
      "metadata": {
        "id": "5d59af48-18c0-4e40-80ff-33a85030b205"
      },
      "source": [
        "## Submission\n",
        "\n",
        "Once you are satisfied with the performance of your model, then you run the code block below to submit your project.\n"
      ]
    },
    {
      "cell_type": "code",
      "execution_count": null,
      "id": "010d7f7f-711d-4f41-82a3-3c2562e59709",
      "metadata": {
        "id": "010d7f7f-711d-4f41-82a3-3c2562e59709",
        "colab": {
          "base_uri": "https://localhost:8080/",
          "height": 36
        },
        "outputId": "64e33ba2-6ba4-45b0-aa00-5125b0b54afb"
      },
      "outputs": [
        {
          "output_type": "execute_result",
          "data": {
            "text/plain": [
              "'Assignment successfully submitted'"
            ],
            "application/vnd.google.colaboratory.intrinsic+json": {
              "type": "string"
            }
          },
          "metadata": {},
          "execution_count": 14
        }
      ],
      "source": [
        "# Submit Method\n",
        "\n",
        "# Do not change the code below\n",
        "question_id = \"01_ml_project_features\"\n",
        "submit(student_id, name, assignment_id, str(ml_features), question_id, drive_link)\n",
        "question_id = \"02_ml_project_accuracy\"\n",
        "submit(student_id, name, assignment_id, str(ml_accuracy), question_id, drive_link)\n",
        "question_id = \"03_ml_project_f1score\"\n",
        "submit(student_id, name, assignment_id, str(ml_f1_score), question_id, drive_link)"
      ]
    },
    {
      "cell_type": "markdown",
      "id": "aa89b9ff-0d31-416a-b3c4-851c725fadf7",
      "metadata": {
        "id": "aa89b9ff-0d31-416a-b3c4-851c725fadf7"
      },
      "source": [
        "## FIN"
      ]
    }
  ],
  "metadata": {
    "kernelspec": {
      "display_name": "Python 3 (ipykernel)",
      "language": "python",
      "name": "python3"
    },
    "language_info": {
      "codemirror_mode": {
        "name": "ipython",
        "version": 3
      },
      "file_extension": ".py",
      "mimetype": "text/x-python",
      "name": "python",
      "nbconvert_exporter": "python",
      "pygments_lexer": "ipython3",
      "version": "3.11.3"
    },
    "colab": {
      "provenance": [],
      "include_colab_link": true
    }
  },
  "nbformat": 4,
  "nbformat_minor": 5
}