{
  "cells": [
    {
      "cell_type": "markdown",
      "metadata": {
        "id": "view-in-github",
        "colab_type": "text"
      },
      "source": [
        "<a href=\"https://colab.research.google.com/github/rafdimag12/Project-AI-ML-Enginer/blob/main/06_computer_vision_project.ipynb\" target=\"_parent\"><img src=\"https://colab.research.google.com/assets/colab-badge.svg\" alt=\"Open In Colab\"/></a>"
      ]
    },
    {
      "cell_type": "markdown",
      "id": "0fd75ab4-1ea8-40d6-b52c-99bee57053ca",
      "metadata": {
        "id": "0fd75ab4-1ea8-40d6-b52c-99bee57053ca"
      },
      "source": [
        "# Project - Computer Vision - CNN"
      ]
    },
    {
      "cell_type": "markdown",
      "id": "69ce0009-c5a9-426b-b4e1-2d56efc318b8",
      "metadata": {
        "id": "69ce0009-c5a9-426b-b4e1-2d56efc318b8"
      },
      "source": [
        "**Instructions for Students:**\n",
        "\n",
        "Please carefully follow these steps to complete and submit your project:\n",
        "\n",
        "1. **Make a copy of the Project**: Please make a copy of this project either to your own Google Drive or download locally. Work on the copy of the project. The master project is **Read-Only**, meaning you can edit, but it will not be saved when you close the master project. To avoid total loss of your work, remember to make a copy.\n",
        "\n",
        "2. **Completing the Project**: You are required to work on and complete all tasks in the provided project. Be disciplined and ensure that you thoroughly engage with each task.\n",
        "   \n",
        "3. **Creating a Google Drive Folder**: Each of you must create a new folder on your Google Drive. This will be the repository for all your completed project files, aiding you in keeping your work organized and accessible.\n",
        "   \n",
        "4. **Uploading Completed Project**: Upon completion of your project, make sure to upload all necessary files, involving codes, reports, and related documents into the created Google Drive folder. Save this link in the 'Student Identity' section and also provide it as the last parameter in the `submit` function that has been provided.\n",
        "   \n",
        "5. **Sharing Folder Link**: You're required to share the link to your project Google Drive folder. This is crucial for the submission and evaluation of your project.\n",
        "   \n",
        "6. **Setting Permission to Public**: Please make sure your Google Drive folder is set to public. This allows your instructor to access your solutions and assess your work correctly.\n",
        "\n",
        "Adhering to these procedures will facilitate a smooth project evaluation process for you and the reviewers."
      ]
    },
    {
      "cell_type": "markdown",
      "id": "194d8da1-20e4-4b61-b508-8e34c682a480",
      "metadata": {
        "id": "194d8da1-20e4-4b61-b508-8e34c682a480"
      },
      "source": [
        "## Project Description\n",
        "\n",
        "In this CNN Project, you will create your own custom Image Classification. You can collect a dataset of images you are interested in and train a CNN model to differentiate between them. For example, a model could be trained to distinguish between different types of birds, cars, plants, or any other topic of interest."
      ]
    },
    {
      "cell_type": "markdown",
      "id": "602ce873-bfd6-46f9-bf0c-b84b0f9fc90c",
      "metadata": {
        "id": "602ce873-bfd6-46f9-bf0c-b84b0f9fc90c"
      },
      "source": [
        "## Grading Criteria\n",
        "\n",
        "There are 4 tasks with 5 criterias for scoring, all except Criteria 3 have the same weight. Each criteria except Criteria 3 will give you either 100 point if you are correct and 0 if you are wrong. The final score for the project will the the average of all 5 criterias from 4 tasks in this project.\n",
        "\n",
        "* Task-1 Criteria 1: This task will assess your ability to find a good dataset for your model.\n",
        "\n",
        "* Task-2 Criteria 2: This task will assess your ability to create and save your model for later use in the inference step.\n",
        "\n",
        "* Task-2 Criteria 3: The task will assess your ability to evaluate your model based on accuracy score of the model. The accuracy score is directly used as the score. Please refrain from overtraining your model to gain 100% accuracy.\n",
        "\n",
        "* Task-3 Criteria 4: This task will assess your ability to use Gradia as a UI (User Interface).\n",
        "\n",
        "* Task-4 Criteria 5: This task will assess your ability to publish your model to Huggingface.\n"
      ]
    },
    {
      "cell_type": "markdown",
      "id": "93fd012e-8a91-4a27-a43a-27712e705e4f",
      "metadata": {
        "id": "93fd012e-8a91-4a27-a43a-27712e705e4f"
      },
      "source": [
        "## Student Identity"
      ]
    },
    {
      "cell_type": "code",
      "execution_count": null,
      "id": "7121cf4d-5979-4c79-bf6d-4ac19fd4d032",
      "metadata": {
        "id": "7121cf4d-5979-4c79-bf6d-4ac19fd4d032"
      },
      "outputs": [],
      "source": [
        "# @title #### Student Identity\n",
        "student_id = \"REA6DSAKJ\" # @param {type:\"string\"}\n",
        "name = \"Rafdi Magiana Ibadurrahman\" # @param {type:\"string\"}\n",
        "drive_link = \"https://colab.research.google.com/drive/1GmIiz9JTkYOeEOjfLXk0ZMlN69wO81J6?usp=sharing\"  # @param {type:\"string\"}\n",
        "\n",
        "assignment_id = \"00_cnn_project\""
      ]
    },
    {
      "cell_type": "markdown",
      "id": "66c6ca1f-9235-4ced-ab8a-84781febcfa6",
      "metadata": {
        "id": "66c6ca1f-9235-4ced-ab8a-84781febcfa6"
      },
      "source": [
        "## Import Package"
      ]
    },
    {
      "cell_type": "code",
      "execution_count": null,
      "id": "ce231d87-1657-4f85-a0c9-7ad8aac6e088",
      "metadata": {
        "id": "ce231d87-1657-4f85-a0c9-7ad8aac6e088",
        "colab": {
          "base_uri": "https://localhost:8080/"
        },
        "outputId": "e1d6e846-959c-44cb-f2ec-e7e2a499831f"
      },
      "outputs": [
        {
          "output_type": "stream",
          "name": "stdout",
          "text": [
            "Collecting rggrader\n",
            "  Downloading rggrader-0.1.6-py3-none-any.whl.metadata (485 bytes)\n",
            "Requirement already satisfied: requests in /usr/local/lib/python3.11/dist-packages (from rggrader) (2.32.3)\n",
            "Requirement already satisfied: pandas in /usr/local/lib/python3.11/dist-packages (from rggrader) (2.2.2)\n",
            "Requirement already satisfied: Pillow in /usr/local/lib/python3.11/dist-packages (from rggrader) (11.1.0)\n",
            "Requirement already satisfied: numpy>=1.23.2 in /usr/local/lib/python3.11/dist-packages (from pandas->rggrader) (1.26.4)\n",
            "Requirement already satisfied: python-dateutil>=2.8.2 in /usr/local/lib/python3.11/dist-packages (from pandas->rggrader) (2.8.2)\n",
            "Requirement already satisfied: pytz>=2020.1 in /usr/local/lib/python3.11/dist-packages (from pandas->rggrader) (2025.1)\n",
            "Requirement already satisfied: tzdata>=2022.7 in /usr/local/lib/python3.11/dist-packages (from pandas->rggrader) (2025.1)\n",
            "Requirement already satisfied: charset-normalizer<4,>=2 in /usr/local/lib/python3.11/dist-packages (from requests->rggrader) (3.4.1)\n",
            "Requirement already satisfied: idna<4,>=2.5 in /usr/local/lib/python3.11/dist-packages (from requests->rggrader) (3.10)\n",
            "Requirement already satisfied: urllib3<3,>=1.21.1 in /usr/local/lib/python3.11/dist-packages (from requests->rggrader) (2.3.0)\n",
            "Requirement already satisfied: certifi>=2017.4.17 in /usr/local/lib/python3.11/dist-packages (from requests->rggrader) (2025.1.31)\n",
            "Requirement already satisfied: six>=1.5 in /usr/local/lib/python3.11/dist-packages (from python-dateutil>=2.8.2->pandas->rggrader) (1.17.0)\n",
            "Downloading rggrader-0.1.6-py3-none-any.whl (2.5 kB)\n",
            "Installing collected packages: rggrader\n",
            "Successfully installed rggrader-0.1.6\n"
          ]
        }
      ],
      "source": [
        "!pip install rggrader\n",
        "from rggrader import submit, submit_image"
      ]
    },
    {
      "cell_type": "code",
      "execution_count": null,
      "id": "9dad0abc-34ef-44db-9a88-32d9d8ab2fbe",
      "metadata": {
        "id": "9dad0abc-34ef-44db-9a88-32d9d8ab2fbe"
      },
      "outputs": [],
      "source": [
        "#Write any package/module installation that you need here\n",
        "\n"
      ]
    },
    {
      "cell_type": "markdown",
      "id": "bc07a2ba-cefc-425f-b86e-2f554b98bd4f",
      "metadata": {
        "id": "bc07a2ba-cefc-425f-b86e-2f554b98bd4f"
      },
      "source": [
        "## Task-1 Load the dataset\n",
        "\n",
        "In this task, you will prepare and load your dataset. **You can choose any dataset you want**, make sure the data is diverse and large enough to prevent overfitting and improve the model's ability to generalize.\n",
        "\n",
        "If you are using images from the internet, **please respect copyright and privacy laws**. Creative Commons licenses or public domain images are a safe bet, and many APIs (like the Unsplash API) provide access to a large number of such images."
      ]
    },
    {
      "cell_type": "markdown",
      "id": "26150053-ddb0-447a-8def-efab3f75d336",
      "metadata": {
        "id": "26150053-ddb0-447a-8def-efab3f75d336"
      },
      "source": [
        "### 1.1 Optional Custom Dataset\n",
        "Provided below is a custom dataset template that you may want to use for your code. It's completely optional.\n",
        "\n",
        "Alternatively, you can review the material on Data Augmentation or read the Pytorch tutorial https://pytorch.org/tutorials/beginner/basics/data_tutorial.html#creating-a-custom-dataset-for-your-files"
      ]
    },
    {
      "cell_type": "code",
      "source": [
        "import torch\n",
        "from torch.utils.data import Dataset\n",
        "from torchvision import datasets\n",
        "from torchvision.transforms import ToTensor\n",
        "import matplotlib.pyplot as plt\n",
        "\n",
        "\n",
        "training_data = datasets.FashionMNIST(\n",
        "    root=\"data\",\n",
        "    train=True,\n",
        "    download=True,\n",
        "    transform=ToTensor()\n",
        ")\n",
        "\n",
        "test_data = datasets.FashionMNIST(\n",
        "    root=\"data\",\n",
        "    train=False,\n",
        "    download=True,\n",
        "    transform=ToTensor()\n",
        ")"
      ],
      "metadata": {
        "colab": {
          "base_uri": "https://localhost:8080/"
        },
        "id": "oSKtq2U6R6Gk",
        "outputId": "65a780e2-a6b8-4646-da7f-ecf3703b5037"
      },
      "id": "oSKtq2U6R6Gk",
      "execution_count": null,
      "outputs": [
        {
          "output_type": "stream",
          "name": "stderr",
          "text": [
            "100%|██████████| 26.4M/26.4M [00:01<00:00, 18.4MB/s]\n",
            "100%|██████████| 29.5k/29.5k [00:00<00:00, 299kB/s]\n",
            "100%|██████████| 4.42M/4.42M [00:00<00:00, 5.55MB/s]\n",
            "100%|██████████| 5.15k/5.15k [00:00<00:00, 8.83MB/s]\n"
          ]
        }
      ]
    },
    {
      "cell_type": "code",
      "source": [
        "labels_map = {\n",
        "    0: \"T-Shirt\",\n",
        "    1: \"Trouser\",\n",
        "    2: \"Pullover\",\n",
        "    3: \"Dress\",\n",
        "    4: \"Coat\",\n",
        "    5: \"Sandal\",\n",
        "    6: \"Shirt\",\n",
        "    7: \"Sneaker\",\n",
        "    8: \"Bag\",\n",
        "    9: \"Ankle Boot\",\n",
        "}\n",
        "figure = plt.figure(figsize=(8, 8))\n",
        "cols, rows = 3, 3\n",
        "for i in range(1, cols * rows + 1):\n",
        "    sample_idx = torch.randint(len(training_data), size=(1,)).item()\n",
        "    img, label = training_data[sample_idx]\n",
        "    figure.add_subplot(rows, cols, i)\n",
        "    plt.title(labels_map[label])\n",
        "    plt.axis(\"off\")\n",
        "    plt.imshow(img.squeeze(), cmap=\"gray\")\n",
        "plt.show()"
      ],
      "metadata": {
        "colab": {
          "base_uri": "https://localhost:8080/",
          "height": 675
        },
        "id": "7TKLI9VxSCn1",
        "outputId": "833f6332-981c-47ec-d677-82b186727569"
      },
      "id": "7TKLI9VxSCn1",
      "execution_count": null,
      "outputs": [
        {
          "output_type": "display_data",
          "data": {
            "text/plain": [
              "<Figure size 800x800 with 9 Axes>"
            ],
            "image/png": "[encoded data removed]"
          },
          "metadata": {}
        }
      ]
    },
    {
      "cell_type": "code",
      "source": [
        "from torch.utils.data import DataLoader\n",
        "\n",
        "train_dataloader = DataLoader(training_data, batch_size=64, shuffle=True)\n",
        "test_dataloader = DataLoader(test_data, batch_size=64, shuffle=True)"
      ],
      "metadata": {
        "id": "BV_Rt92eRl1X"
      },
      "id": "BV_Rt92eRl1X",
      "execution_count": null,
      "outputs": []
    },
    {
      "cell_type": "code",
      "execution_count": null,
      "id": "c598c9e0-31fe-4c13-956b-49c0033a39e0",
      "metadata": {
        "id": "c598c9e0-31fe-4c13-956b-49c0033a39e0"
      },
      "outputs": [],
      "source": [
        "#an example of creating our own custom dataset, you can use this if you want/need. Completely optional.\n",
        "import os\n",
        "import pandas as pd\n",
        "from torchvision.io import read_image\n",
        "\n",
        "class CustomImageDataset(Dataset):\n",
        "    def __init__(self, annotations_file, img_dir, transform=None, target_transform=None):\n",
        "        self.img_labels = pd.read_csv(annotations_file)\n",
        "        self.img_dir = img_dir\n",
        "        self.transform = transform\n",
        "        self.target_transform = target_transform\n",
        "\n",
        "    def __len__(self):\n",
        "        return len(self.img_labels)\n",
        "\n",
        "    def __getitem__(self, idx):\n",
        "        img_path = os.path.join(self.img_dir, self.img_labels.iloc[idx, 0])\n",
        "        image = read_image(img_path)\n",
        "        label = self.img_labels.iloc[idx, 1]\n",
        "        if self.transform:\n",
        "            image = self.transform(image)\n",
        "        if self.target_transform:\n",
        "            label = self.target_transform(label)\n",
        "        return image, label"
      ]
    },
    {
      "cell_type": "code",
      "source": [
        "from torch.utils.data import DataLoader\n",
        "\n",
        "train_dataloader = DataLoader(training_data, batch_size=64, shuffle=True)\n",
        "test_dataloader = DataLoader(test_data, batch_size=64, shuffle=True)"
      ],
      "metadata": {
        "id": "Ji0IURZrSOPe"
      },
      "id": "Ji0IURZrSOPe",
      "execution_count": null,
      "outputs": []
    },
    {
      "cell_type": "code",
      "source": [
        "# Display image and label.\n",
        "train_features, train_labels = next(iter(train_dataloader))\n",
        "print(f\"Feature batch shape: {train_features.size()}\")\n",
        "print(f\"Labels batch shape: {train_labels.size()}\")\n",
        "img = train_features[0].squeeze()\n",
        "label = train_labels[0]\n",
        "plt.imshow(img, cmap=\"gray\")\n",
        "plt.show()\n",
        "print(f\"Label: {label}\")"
      ],
      "metadata": {
        "colab": {
          "base_uri": "https://localhost:8080/",
          "height": 485
        },
        "id": "uEFiS87qSRbG",
        "outputId": "d4386ad2-173d-4977-a5b2-bdb61f61f9a6"
      },
      "id": "uEFiS87qSRbG",
      "execution_count": null,
      "outputs": [
        {
          "output_type": "stream",
          "name": "stdout",
          "text": [
            "Feature batch shape: torch.Size([64, 1, 28, 28])\n",
            "Labels batch shape: torch.Size([64])\n"
          ]
        },
        {
          "output_type": "display_data",
          "data": {
            "text/plain": [
              "<Figure size 640x480 with 1 Axes>"
            ],
            "image/png": "[encoded data removed]"
          },
          "metadata": {}
        },
        {
          "output_type": "stream",
          "name": "stdout",
          "text": [
            "Label: 1\n"
          ]
        }
      ]
    },
    {
      "cell_type": "markdown",
      "id": "0abe9d36-5f0f-4e71-a24d-c5acea2c3735",
      "metadata": {
        "id": "0abe9d36-5f0f-4e71-a24d-c5acea2c3735"
      },
      "source": [
        "### 1.2 Write your code in the block below\n",
        "\n",
        "In the code block below, prepare and load your dataset. Please include data preprocessing steps such as dividing the dataset into training, validation, and test sets, or data augmentation techniques that you used if any in this section. Do not put the code to build your model here.\n",
        "\n",
        "Some techniques you may use:\n",
        "- Find and load existing dataset from Huggingface or Kaggle. (Easy)\n",
        "- Create your own custom dataset from the images you have in your possesion or internet search and load the dataset. (Hard)\n",
        "- Etc.\n",
        "\n",
        "Hint:\n",
        "- Usually the dataset are loaded into train_dataset and test_dataset"
      ]
    },
    {
      "cell_type": "code",
      "execution_count": null,
      "id": "ae0e5132-222b-4069-8c67-567b3c71363c",
      "metadata": {
        "id": "ae0e5132-222b-4069-8c67-567b3c71363c"
      },
      "outputs": [],
      "source": [
        "# definisi transformasi pada gamabr\n",
        "import torchvision.datasets as datasets\n",
        "import torchvision.transforms as transforms\n",
        "\n",
        "# Define the transforms\n",
        "transform = transforms.Compose([\n",
        "    transforms.ToTensor(), # mengubah torch tensor\n",
        "    transforms.Normalize((0.5, 0.5, 0.5), (0.5, 0.5, 0.5)) #((mean),(std)) 0-255 --> 0 - 1\n",
        "])\n",
        "\n",
        "# Download the dataset\n",
        "train_dataset = datasets.CIFAR10(root='./data', train=True, download=True, transform=transform) # data cifar 10\n",
        "test_dataset = datasets.CIFAR10(root='./data', train=False, download=True, transform=transform)"
      ]
    },
    {
      "cell_type": "code",
      "source": [
        "import torch\n",
        "import torch.nn as nn\n",
        "import torch.optim as optim\n",
        "from torchvision.models import resnet18"
      ],
      "metadata": {
        "id": "-cYzk26VURXD"
      },
      "id": "-cYzk26VURXD",
      "execution_count": null,
      "outputs": []
    },
    {
      "cell_type": "code",
      "source": [
        "# Define the model\n",
        "model = resnet18(weights='DEFAULT') # model resnet 18 layer\n",
        "num_ftrs = model.fc.in_features\n",
        "model.fc = nn.Linear(num_ftrs, 10)"
      ],
      "metadata": {
        "id": "uSp2ytHzUR9q",
        "colab": {
          "base_uri": "https://localhost:8080/"
        },
        "outputId": "9b274e00-0fa0-47de-cd2a-0ebcc6ec58f6"
      },
      "id": "uSp2ytHzUR9q",
      "execution_count": null,
      "outputs": [
        {
          "output_type": "stream",
          "name": "stderr",
          "text": [
            "Downloading: \"https://download.pytorch.org/models/resnet18-f37072fd.pth\" to /root/.cache/torch/hub/checkpoints/resnet18-f37072fd.pth\n",
            "100%|██████████| 44.7M/44.7M [00:00<00:00, 65.1MB/s]\n"
          ]
        }
      ]
    },
    {
      "cell_type": "code",
      "source": [
        "# Define the loss function and optimizer\n",
        "criterion = nn.CrossEntropyLoss()\n",
        "optimizer = optim.SGD(model.parameters(), lr=0.001, momentum=0.9)"
      ],
      "metadata": {
        "id": "zyiMGmAnUddd"
      },
      "id": "zyiMGmAnUddd",
      "execution_count": null,
      "outputs": []
    },
    {
      "cell_type": "code",
      "source": [
        "from torch.utils.data import DataLoader\n",
        "\n",
        "# Define the batch size and number of epochs\n",
        "batch_size = 32\n",
        "num_epochs = 1"
      ],
      "metadata": {
        "id": "nTLd1a7qUgmm"
      },
      "id": "nTLd1a7qUgmm",
      "execution_count": null,
      "outputs": []
    },
    {
      "cell_type": "code",
      "source": [
        "# Create the data loaders\n",
        "train_loader = DataLoader(train_dataset, batch_size=batch_size, shuffle=True)\n",
        "test_loader = DataLoader(test_dataset, batch_size=batch_size, shuffle=False)\n"
      ],
      "metadata": {
        "id": "VXFiMCN3Ui_u"
      },
      "id": "VXFiMCN3Ui_u",
      "execution_count": null,
      "outputs": []
    },
    {
      "cell_type": "code",
      "source": [],
      "metadata": {
        "id": "gRpa0-nIUzF1"
      },
      "id": "gRpa0-nIUzF1",
      "execution_count": null,
      "outputs": []
    },
    {
      "cell_type": "markdown",
      "id": "4cc33ddd-a526-4684-a4ba-4ccd423d643a",
      "metadata": {
        "id": "4cc33ddd-a526-4684-a4ba-4ccd423d643a"
      },
      "source": [
        "### 1.3 Submission\n",
        "\n",
        "You'll submit the link to your dataset for Task-1.\n",
        "\n",
        "- If you use existing dataset from Kaggle or Huggingface, then you can put the link to those dataset here.\n",
        "\n",
        "- If you use your own custom dataset, Upload and store the custom dataset in your Google Drive that you shared with us and put the link to the folder containing that dataset here."
      ]
    },
    {
      "cell_type": "code",
      "execution_count": null,
      "id": "bd11320b-2560-4389-a128-613e28f9b8d5",
      "metadata": {
        "id": "bd11320b-2560-4389-a128-613e28f9b8d5"
      },
      "outputs": [],
      "source": [
        "# Submit Method\n",
        "dataset_link = \"https://huggingface.co/datasets/uoft-cs/cifar10\" # Put your model link\n",
        "\n",
        "question_id = \"00_cnn_project_dataset\"\n",
        "submit(student_id, name, assignment_id, dataset_link, question_id, drive_link)"
      ]
    },
    {
      "cell_type": "markdown",
      "id": "be3e5a65-0562-408a-9b9d-738e8efd825e",
      "metadata": {
        "id": "be3e5a65-0562-408a-9b9d-738e8efd825e"
      },
      "source": [
        "## Task-2 Build your model\n",
        "\n",
        "In this task, you will now build and save your model. You can either create your own CNN model or choose any pretrained model that you feel is most appropriate for your dataset."
      ]
    },
    {
      "cell_type": "markdown",
      "id": "3683681f-2bbc-4c9d-9d5b-fb5b86dac054",
      "metadata": {
        "id": "3683681f-2bbc-4c9d-9d5b-fb5b86dac054"
      },
      "source": [
        "### 2.1 Write your code in the block below\n",
        "\n",
        "In the code block below, write the code to **create your model, either from scratch or fine tuning a pretrained model**. You will need to write the code for your model definition, such as the layers used, loss function and optimizer. Please include also the training and validation loops.\n",
        "\n",
        "Make sure you **save your model to a file** and **measure the accuracy of your model**, as this will be submitted for this task.\n",
        "\n",
        "Some techniques you may use:\n",
        "- Use pretrained model. (Easy)\n",
        "- Create a CNN model from scratch. (Hard)\n",
        "- Etc.\n",
        "\n",
        "Hint:\n",
        "- Use GPU in Google Colab, it significantly improves the time taken for training, compared to CPU.\n",
        "- **Google Colab GPU usage for free-tier have a limit**, which is unknown, so I suggest you try out in CPU mode that your code works without error, then use GPU for traininig.\n",
        "- If you are going to upload to Huggingface by using the Transformer Trainer during training, make sure you use the Huggingface method. Refer to Transfer Learning section or read the documentation here: https://huggingface.co/docs/transformers/model_sharing"
      ]
    },
    {
      "cell_type": "code",
      "execution_count": null,
      "id": "fa2ec9d0-da97-499a-91ce-d689321207cd",
      "metadata": {
        "id": "fa2ec9d0-da97-499a-91ce-d689321207cd",
        "colab": {
          "base_uri": "https://localhost:8080/"
        },
        "outputId": "235fbf05-7dd1-41b4-d8ac-46cec1f450f7"
      },
      "outputs": [
        {
          "output_type": "stream",
          "name": "stdout",
          "text": [
            "Epoch [1/1], Batch [100/1563], Loss: 0.4365\n",
            "Epoch [1/1], Batch [200/1563], Loss: 0.4495\n",
            "Epoch [1/1], Batch [300/1563], Loss: 0.4578\n",
            "Epoch [1/1], Batch [400/1563], Loss: 0.4422\n",
            "Epoch [1/1], Batch [500/1563], Loss: 0.4393\n",
            "Epoch [1/1], Batch [600/1563], Loss: 0.4582\n",
            "Epoch [1/1], Batch [700/1563], Loss: 0.4480\n",
            "Epoch [1/1], Batch [800/1563], Loss: 0.4504\n",
            "Epoch [1/1], Batch [900/1563], Loss: 0.4562\n",
            "Epoch [1/1], Batch [1000/1563], Loss: 0.4623\n",
            "Epoch [1/1], Batch [1100/1563], Loss: 0.4602\n",
            "Epoch [1/1], Batch [1200/1563], Loss: 0.4755\n",
            "Epoch [1/1], Batch [1300/1563], Loss: 0.4634\n",
            "Epoch [1/1], Batch [1400/1563], Loss: 0.5044\n",
            "Epoch [1/1], Batch [1500/1563], Loss: 0.4561\n",
            "Epoch [1/1], Test Accuracy: 78.50%\n"
          ]
        }
      ],
      "source": [
        "#Write your code to build your model here\n",
        "\n",
        "# Train the model\n",
        "for epoch in range(num_epochs):\n",
        "    running_loss = 0.0\n",
        "    for i, (images, labels) in enumerate(train_loader):\n",
        "        # Zero the gradients\n",
        "        optimizer.zero_grad()\n",
        "\n",
        "        # Forward pass\n",
        "        outputs = model(images)\n",
        "\n",
        "        # Calculate the loss\n",
        "        loss = criterion(outputs, labels)\n",
        "\n",
        "        # Backward pass\n",
        "        loss.backward()\n",
        "\n",
        "        # Update the weights\n",
        "        optimizer.step()\n",
        "\n",
        "        # Print statistics\n",
        "        running_loss += loss.item()\n",
        "        if (i + 1) % 100 == 0:  # Print every 100 mini-batches\n",
        "            print(f'Epoch [{epoch + 1}/{num_epochs}], Batch [{i + 1}/{len(train_loader)}], Loss: {running_loss / 100:.4f}')\n",
        "            running_loss = 0.0\n",
        "\n",
        "    # Test the model\n",
        "    correct = 0\n",
        "    total = 0\n",
        "    with torch.no_grad():\n",
        "        for images, labels in test_loader:\n",
        "            outputs = model(images)\n",
        "            _, predicted = torch.max(outputs.data, 1)\n",
        "            total += labels.size(0)\n",
        "            correct += (predicted == labels).sum().item()\n",
        "\n",
        "    accuracy = 100*correct/total\n",
        "   # Print the accuracy\n",
        "    print('Epoch [{}/{}], Test Accuracy: {:.2f}%'.format(epoch+1, num_epochs, accuracy)) #if you change the name of your accuracy variable, change the name also in the submit parameter\n",
        "\n"
      ]
    },
    {
      "cell_type": "code",
      "source": [
        "# Save the trained model to a file\n",
        "torch.save(model.state_dict(), 'resnet18_cifar10_classifier.pth')\n",
        "print('Model saved')"
      ],
      "metadata": {
        "colab": {
          "base_uri": "https://localhost:8080/"
        },
        "id": "JDtE--HKYp4e",
        "outputId": "b6497f05-fc9d-4665-c175-0d991b897a08"
      },
      "id": "JDtE--HKYp4e",
      "execution_count": null,
      "outputs": [
        {
          "output_type": "stream",
          "name": "stdout",
          "text": [
            "Model saved\n"
          ]
        }
      ]
    },
    {
      "cell_type": "markdown",
      "id": "8b242f0b-4b30-4b08-a310-b5005e120eb8",
      "metadata": {
        "id": "8b242f0b-4b30-4b08-a310-b5005e120eb8"
      },
      "source": [
        "### 2.2 Submission\n",
        "\n",
        "You'll submit the link to your model and the accuracy score for your model in this section.\n",
        "\n",
        "Remember to download or move/upload your model from Google Colab to your Google Drive. Put the link to the Google Drive for your model below.\n",
        "\n",
        "If you use a different variable to store your accuracy, remember to also change the `accuracy` variable below."
      ]
    },
    {
      "cell_type": "code",
      "execution_count": null,
      "id": "2e4d6774-0c27-48ec-abcc-ba9747ad1dc0",
      "metadata": {
        "id": "2e4d6774-0c27-48ec-abcc-ba9747ad1dc0",
        "colab": {
          "base_uri": "https://localhost:8080/",
          "height": 36
        },
        "outputId": "0ed7376b-1c2d-4d0c-9dab-24263d60d17a"
      },
      "outputs": [
        {
          "output_type": "execute_result",
          "data": {
            "text/plain": [
              "'Assignment successfully submitted'"
            ],
            "application/vnd.google.colaboratory.intrinsic+json": {
              "type": "string"
            }
          },
          "metadata": {},
          "execution_count": 37
        }
      ],
      "source": [
        "# Submit Method\n",
        "model_link = \"https://huggingface.co/datasets/uoft-cs/cifar10\" # Put your model link\n",
        "\n",
        "question_id = \"01_cnn_project_model_link\"\n",
        "submit(student_id, name, assignment_id, model_link, question_id, drive_link)\n",
        "question_id = \"02_cnn_project_model_accuracy\"\n",
        "submit(student_id, name, assignment_id, str(accuracy), question_id, drive_link)"
      ]
    },
    {
      "cell_type": "markdown",
      "id": "156bff33-3226-4366-8ea0-df0b788f9861",
      "metadata": {
        "id": "156bff33-3226-4366-8ea0-df0b788f9861"
      },
      "source": [
        "## Task-3 Model Inference\n",
        "\n",
        "In this task, you will be exercising the application of your model, or as it's commonly referred to in AI terminology, you will be performing inference using your model.\n",
        "\n",
        "Simply load your saved model from Task-2 and create an inference for the model. Where you'll feed an image as input and the model will output the label as well as the percentage of confidence for the label."
      ]
    },
    {
      "cell_type": "markdown",
      "id": "cd2313b4-c6f6-4305-be72-f21cdf531132",
      "metadata": {
        "id": "cd2313b4-c6f6-4305-be72-f21cdf531132"
      },
      "source": [
        "### 3.1 Write your code in the block below\n",
        "\n",
        "In the code block below write the code to use the model you created in Task-2. Load the model and input image, afterwards, show the result of the label/class together with confidence level in percentage as well as the input image."
      ]
    },
    {
      "cell_type": "code",
      "execution_count": null,
      "id": "c9120366-86dc-4314-ba9d-66f60ae5a884",
      "metadata": {
        "id": "c9120366-86dc-4314-ba9d-66f60ae5a884",
        "colab": {
          "base_uri": "https://localhost:8080/"
        },
        "outputId": "53067294-aba9-4c7a-a467-ab6b86e9e72e"
      },
      "outputs": [
        {
          "output_type": "stream",
          "name": "stdout",
          "text": [
            "Predicted Class: 5\n",
            "Predicted Label: dog\n"
          ]
        }
      ],
      "source": [
        "#Write your code for inference here\n",
        "import torch\n",
        "import torchvision.models as models\n",
        "import requests\n",
        "from PIL import Image\n",
        "from torchvision import transforms\n",
        "import io\n",
        "\n",
        "# Load the model architecture (e.g., ResNet18)\n",
        "model = models.resnet18(weights=None)\n",
        "num_ftrs = model.fc.in_features\n",
        "model.fc = nn.Linear(num_ftrs, 10)\n",
        "\n",
        "# Load the saved model weights\n",
        "model_weights_path = 'resnet18_cifar10_classifier.pth'  # Path to the saved model weights on your local disk\n",
        "model.load_state_dict(torch.load(model_weights_path))\n",
        "\n",
        "# Put the model in evaluation mode\n",
        "model.eval()\n",
        "\n",
        "# URL of the image you want to classify\n",
        "#image_url = 'https://upload.wikimedia.org/wikipedia/commons/thumb/1/1a/200125-N-LH674-1073_USS_Theodore_Roosevelt_%28CVN-71%29.jpg/1200px-200125-N-LH674-1073_USS_Theodore_Roosevelt_%28CVN-71%29.jpg'  # aircraft carrier\n",
        "image_url = 'https://encrypted-tbn0.gstatic.com/images?q=tbn:ANd9GcT-LQwYGf3Ohbx-TAfRNTyAAkTM2904UHRHhQ&s' #airplane\n",
        "\n",
        "# Download the image from the URL\n",
        "response = requests.get(image_url)\n",
        "\n",
        "if response.status_code == 200:\n",
        "    # Open the downloaded image with PIL\n",
        "    img = Image.open(io.BytesIO(response.content))\n",
        "else:\n",
        "    print('Failed to download the image.')\n",
        "\n",
        "# Apply the same transformations used during training (resize, normalize, etc.)\n",
        "transform = transforms.Compose([\n",
        "    transforms.Resize((32, 32)),  # Resize to match model's input size, CIFAR10 was 32x32, try commenting this and see if the prediction is still correct\n",
        "    transforms.ToTensor(),\n",
        "    transforms.Normalize((0.5, 0.5, 0.5), (0.5, 0.5, 0.5)),\n",
        "])\n",
        "\n",
        "input_data = transform(img).unsqueeze(0)  # Add a batch dimension\n",
        "\n",
        "#We use CIFAR10 labels\n",
        "class_to_label = {0: 'airplane', 1: 'automobile', 2: 'bird', 3: 'cat', 4: 'deer', 5: 'dog', 6: 'frog', 7: 'horse', 8: 'ship', 9: 'truck'}\n",
        "\n",
        "with torch.no_grad():\n",
        "    output = model(input_data)\n",
        "\n",
        "# Get the predicted class label\n",
        "_, predicted_class = torch.max(output, 1)\n",
        "\n",
        "# Print the predicted class\n",
        "print('Predicted Class:', predicted_class.item())\n",
        "print('Predicted Label:', class_to_label[predicted_class.item()])\n"
      ]
    },
    {
      "cell_type": "markdown",
      "id": "2c39805e-a94c-4470-af4e-7669ff33f84f",
      "metadata": {
        "id": "2c39805e-a94c-4470-af4e-7669ff33f84f"
      },
      "source": [
        "### 3.2 Submission\n",
        "\n",
        "You'll submit a screenshot of your inference in this section. Remember to save the screenshot first before submitting it.\n",
        "\n",
        "Hint:\n",
        "\n",
        "![Upload colab](https://storage.googleapis.com/rg-ai-bootcamp/project-3-pipeline-and-gradio/upload-colab.png)\n",
        "\n",
        "- In Google Colab you can just use the \"Folder\" sidebar and click the upload button. Make sure your screenshot match below requirements:\n",
        "\n",
        "    - Image name screenshot is `submission.jpg`. If you change the name of the screenshot  file, change it also in the submit_image parameter.\n",
        "    - The input image and label as well as percentage of confidence should be included in the screenshot\n",
        "\n",
        "Here is an example of a correct screenshot:\n",
        "\n",
        "![Screenshot submission sammple - hummer](https://storage.googleapis.com/rg-ai-bootcamp/projects/project-5-cnn-hummer.png)"
      ]
    },
    {
      "cell_type": "code",
      "execution_count": null,
      "id": "7f621399-107e-494f-8c6f-9a79f4978d5d",
      "metadata": {
        "id": "7f621399-107e-494f-8c6f-9a79f4978d5d",
        "colab": {
          "base_uri": "https://localhost:8080/",
          "height": 36
        },
        "outputId": "994cd4d9-c039-4d0a-b813-b6e768eb5933"
      },
      "outputs": [
        {
          "output_type": "execute_result",
          "data": {
            "text/plain": [
              "'Assignment successfully submitted'"
            ],
            "application/vnd.google.colaboratory.intrinsic+json": {
              "type": "string"
            }
          },
          "metadata": {},
          "execution_count": 40
        }
      ],
      "source": [
        "# Submit Method\n",
        "\n",
        "question_id = \"03_cnn_project_inference\"\n",
        "submit_image(student_id, question_id, 'submission.jpeg')"
      ]
    },
    {
      "cell_type": "markdown",
      "id": "2a021cd5-9c96-48d9-834d-18d37ba76824",
      "metadata": {
        "id": "2a021cd5-9c96-48d9-834d-18d37ba76824"
      },
      "source": [
        "## Task-4 Model Publishing\n",
        "\n",
        "In this task, you will push your model to Huggingface. Once you've pushed your model to the Hugging Face Model Hub, you'll have a link that points directly to your model's page. You can share this link with others, and they can use it to directly load your model for their own uses."
      ]
    },
    {
      "cell_type": "markdown",
      "id": "f9cbd245-e9f7-4fdb-bc2c-1ca8c63af516",
      "metadata": {
        "id": "f9cbd245-e9f7-4fdb-bc2c-1ca8c63af516"
      },
      "source": [
        "### 4.1 Write your code in the block below\n",
        "\n",
        "In the code block below, write the code to push your model to Huggingface. There are several methods to do this, please refer to the documentation: https://huggingface.co/docs/transformers/model_sharing\n",
        "\n",
        "Some techniques you may use:\n",
        "- If you use the Transformer Trainer during the training loop when you create your model above, then you can simply put your `trainer.push_to_hub()` here.\n",
        "- You can also use the web interface on Huggingface.\n",
        "\n",
        "Hint:\n",
        "- Remember to login first to your Huggingface account.\n",
        "- If you are pushing programmaticaly, then use the huggingface-cli to login."
      ]
    },
    {
      "cell_type": "code",
      "execution_count": null,
      "id": "ca04df60-d131-4108-88ae-18c253cfa1ba",
      "metadata": {
        "id": "ca04df60-d131-4108-88ae-18c253cfa1ba"
      },
      "outputs": [],
      "source": [
        "#Write your code for publishing here\n",
        "\n"
      ]
    },
    {
      "cell_type": "markdown",
      "id": "e8dc66c0-2b13-46c0-9be6-2835917df550",
      "metadata": {
        "id": "e8dc66c0-2b13-46c0-9be6-2835917df550"
      },
      "source": [
        "### 4.2 Submission\n",
        "\n",
        "You'll submit a a link to your huggingface model in this section.\n",
        "\n",
        "The following link is an example of what a trained model's page looks like: https://huggingface.co/aditira/emotion_classification. This is not your model, but rather an example of what your final result might resemble.\n",
        "\n",
        "Remember, for this project you should push your output model to your own Hugging Face account. The link for your model will be different and should reflect your own username and model name."
      ]
    },
    {
      "cell_type": "code",
      "execution_count": null,
      "id": "51d45a76-e657-4eb9-bdc4-9526fac166e9",
      "metadata": {
        "id": "51d45a76-e657-4eb9-bdc4-9526fac166e9"
      },
      "outputs": [],
      "source": [
        "# Submit Method\n",
        "huggingface_model_link = \"\" # Put your model link\n",
        "\n",
        "question_id = \"04_cnn_project_publish\"\n",
        "submit(student_id, name, assignment_id, huggingface_model_link, question_id, drive_link)"
      ]
    },
    {
      "cell_type": "markdown",
      "id": "aea843c0-2811-416f-af2d-a4e46a65a11a",
      "metadata": {
        "id": "aea843c0-2811-416f-af2d-a4e46a65a11a"
      },
      "source": [
        "FIN"
      ]
    }
  ],
  "metadata": {
    "kernelspec": {
      "display_name": "Python 3",
      "name": "python3"
    },
    "language_info": {
      "codemirror_mode": {
        "name": "ipython",
        "version": 3
      },
      "file_extension": ".py",
      "mimetype": "text/x-python",
      "name": "python",
      "nbconvert_exporter": "python",
      "pygments_lexer": "ipython3",
      "version": "3.11.3"
    },
    "colab": {
      "provenance": [],
      "gpuType": "T4",
      "include_colab_link": true
    },
    "accelerator": "GPU"
  },
  "nbformat": 4,
  "nbformat_minor": 5
}